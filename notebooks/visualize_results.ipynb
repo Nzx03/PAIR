{
 "cells": [
  {
   "cell_type": "code",
   "execution_count": null,
   "id": "822a5d14",
   "metadata": {
    "vscode": {
     "languageId": "plaintext"
    }
   },
   "outputs": [],
   "source": [
    "# visualize_results.ipynb\n",
    "\n",
    "import pandas as pd\n",
    "import matplotlib.pyplot as plt\n",
    "import seaborn as sns\n",
    "import json\n",
    "from pathlib import Path\n",
    "\n",
    "# Load jailbreak evaluation logs\n",
    "data_path = Path(\"../data/logs/eval_results.json\")\n",
    "with open(data_path, \"r\") as f:\n",
    "    results = json.load(f)\n",
    "\n",
    "# Convert to DataFrame\n",
    "df = pd.DataFrame(results)\n",
    "\n",
    "# Basic overview\n",
    "print(df.head())\n",
    "\n",
    "# Plot success rate per target model\n",
    "success_rate = df.groupby(\"target_model\")[\"success\"].mean().reset_index()\n",
    "\n",
    "plt.figure(figsize=(8, 5))\n",
    "sns.barplot(data=success_rate, x=\"target_model\", y=\"success\")\n",
    "plt.title(\"Jailbreak Success Rate by Target Model\")\n",
    "plt.ylabel(\"Success Rate\")\n",
    "plt.xlabel(\"Target Model\")\n",
    "plt.ylim(0, 1)\n",
    "plt.xticks(rotation=45)\n",
    "plt.grid(True)\n",
    "plt.tight_layout()\n",
    "plt.show()\n"
   ]
  }
 ],
 "metadata": {
  "language_info": {
   "name": "python"
  }
 },
 "nbformat": 4,
 "nbformat_minor": 5
}
